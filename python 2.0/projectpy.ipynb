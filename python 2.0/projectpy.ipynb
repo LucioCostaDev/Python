{
 "cells": [
  {
   "cell_type": "code",
   "execution_count": 1,
   "metadata": {},
   "outputs": [
    {
     "name": "stdout",
     "output_type": "stream",
     "text": [
      "Ola Lúcio\n"
     ]
    }
   ],
   "source": [
    "print (\"Ola Lúcio\")"
   ]
  },
  {
   "cell_type": "code",
   "execution_count": 2,
   "metadata": {},
   "outputs": [
    {
     "name": "stdout",
     "output_type": "stream",
     "text": [
      "Texto: Olá mundo\n"
     ]
    }
   ],
   "source": [
    "texto = \"Olá mundo\"\n",
    "print(\"Texto:\", texto)"
   ]
  },
  {
   "cell_type": "code",
   "execution_count": 3,
   "metadata": {},
   "outputs": [
    {
     "name": "stdout",
     "output_type": "stream",
     "text": [
      "<class 'str'>\n",
      "<class 'int'>\n"
     ]
    }
   ],
   "source": [
    "nome = \"Ana Louise\"\n",
    "idade = 2\n",
    "print (type(nome))\n",
    "print (type(idade))"
   ]
  },
  {
   "cell_type": "code",
   "execution_count": 9,
   "metadata": {},
   "outputs": [
    {
     "name": "stdout",
     "output_type": "stream",
     "text": [
      "Sim, palavra Flamengo está presente na frase\n"
     ]
    }
   ],
   "source": [
    "# PROCURAR PALAVRA \n",
    "frase = \"Uma vez flamengo, sempre Flamengo, flamengo sempre ei de ser\"\n",
    "if \"Flamengo\" in frase:\n",
    "    print(\"Sim, palavra Flamengo está presente na frase\")\n",
    "else:\n",
    "    print(\"Não sabe o que está perdendo\") "
   ]
  },
  {
   "cell_type": "code",
   "execution_count": 12,
   "metadata": {},
   "outputs": [
    {
     "name": "stdout",
     "output_type": "stream",
     "text": [
      "Oi pra que tanto espaço\n"
     ]
    }
   ],
   "source": [
    "# FUNÇÃO STRIP - UTILIZADO PARA TIRAR ESPAÇOS EM BRANCOS DO INICIO E DO FIM\n",
    "frase = \"     Oi pra que tanto espaço     \"\n",
    "print(frase.strip())\n",
    "# print(frase)"
   ]
  },
  {
   "cell_type": "code",
   "execution_count": 15,
   "metadata": {},
   "outputs": [
    {
     "name": "stdout",
     "output_type": "stream",
     "text": [
      "['Olá,', 'como', 'vai', 'você?']\n"
     ]
    }
   ],
   "source": [
    "# split, join e strip são métodos muuito úteis da str(string)\n",
    "frase = \"Olá, como vai você?\"\n",
    "palavras = frase.split()\n",
    "print(palavras)"
   ]
  },
  {
   "cell_type": "code",
   "execution_count": 29,
   "metadata": {},
   "outputs": [
    {
     "name": "stdout",
     "output_type": "stream",
     "text": [
      "Olá, como vai você?\n"
     ]
    }
   ],
   "source": [
    "# split, join e strip são métodos muuito úteis da str(string)\n",
    "palavras = ['Olá,', 'como', 'vai', 'você?']\n",
    "frase = ' '.join(palavras)\n",
    "print(frase)"
   ]
  },
  {
   "cell_type": "code",
   "execution_count": 30,
   "metadata": {},
   "outputs": [
    {
     "name": "stdout",
     "output_type": "stream",
     "text": [
      "CENTRO\n",
      "CENTRO\n"
     ]
    }
   ],
   "source": [
    "texto = \"     CENTRO     \"\n",
    "texto_strip = texto.strip()\n",
    "print(texto_strip)\n",
    "\n",
    "texto = \"*****CENTRO*****\"\n",
    "texto_strip = texto.strip('*')\n",
    "print(texto_strip)"
   ]
  },
  {
   "cell_type": "code",
   "execution_count": 39,
   "metadata": {},
   "outputs": [
    {
     "name": "stdout",
     "output_type": "stream",
     "text": [
      "Olá, meu nome é Lucio. Tenho 39 anos e minha altura é 1.74 metros.\n",
      "Olá, meu nome é {nome}. Tenho {idade} anos e minha altura é {altura:} metros.\n",
      "Olá, meu nome é Lucio. Tenho 39 anos e minha altura é 1.74222 metros.\n",
      "TODA A FRASE EM MAIUSCULA\n",
      "toda a frase em minuscula\n",
      "Converte a primeira letra em maiuscula e todo resto em minuscula \n",
      "1\n"
     ]
    }
   ],
   "source": [
    "nome = \"Lucio\"\n",
    "idade = 39\n",
    "altura = 1.74222\n",
    "\n",
    "mensagem1 = f\"Olá, meu nome é {nome}. Tenho {idade} anos e minha altura é {altura:.2f} metros.\"\n",
    "mensagem2 = \"Olá, meu nome é {nome}. Tenho {idade} anos e minha altura é {altura:} metros.\"\n",
    "mensagem3 = f\"Olá, meu nome é {nome}. Tenho {idade} anos e minha altura é {altura} metros.\"\n",
    "mensagem4 = f\"toda a frase em Maiuscula\"\n",
    "mensagem5 = f\"Toda a frase em Minuscula\"\n",
    "mensagem6 = f\"Converte a primeira letra em Maiuscula e todo resto em minuscula \"\n",
    "mensagem7 = f\"Contagem de quantidade de letra definida\"\n",
    "\n",
    "mensagem_upper = mensagem4.upper()\n",
    "mensagem_lower = mensagem5.lower()\n",
    "mensagem_capitalize = mensagem6.capitalize()\n",
    "mensagem_count = mensagem7.count(\"o\")\n",
    "\n",
    "print(mensagem1)\n",
    "print(mensagem2)\n",
    "print(mensagem3)\n",
    "print(mensagem_upper)\n",
    "print(mensagem_lower)\n",
    "print(mensagem_capitalize)\n",
    "print(mensagem_count)"
   ]
  },
  {
   "cell_type": "code",
   "execution_count": 23,
   "metadata": {},
   "outputs": [
    {
     "name": "stdout",
     "output_type": "stream",
     "text": [
      "MARIA DE FREITAS CARDOSO\n",
      "maria de freitas cardoso\n",
      "21\n",
      "MariadeFreitasCardoso\n",
      "A primeira frase e:  Maria\n",
      "A ultima palavra do nome e: Cardoso\n"
     ]
    }
   ],
   "source": [
    "nome_completo = \"Maria de Freitas Cardoso\"\n",
    "\n",
    "# 1. Exiba o nome do usuário em letras maiúsculas\n",
    "\n",
    "nome_maiusculo = nome_completo.upper()\n",
    "print(nome_maiusculo)\n",
    "\n",
    "# 2. Exiba o nome do usuário em letras minúsculas\n",
    "\n",
    "nome_minusculo = nome_completo.lower()\n",
    "print(nome_minusculo)\n",
    "\n",
    "# 3. Conte e exiba quantas letras (sem considerar espaços) o nome do usuário tem\n",
    "\n",
    "sem_espaco = nome_completo.replace(\" \", \"\")\n",
    "contagem_frase = len(sem_espaco)\n",
    "print (contagem_frase)\n",
    "print (sem_espaco)\n",
    "\n",
    "# 4. Exiba o primeiro nome do usuário\n",
    "\n",
    "primeira_palavra = nome_completo.split()[0]\n",
    "print(\"A primeira frase e: \", primeira_palavra)\n",
    "\n",
    "# 5. Exiba o último nome do usuário\n",
    "\n",
    "ultimo_nome = nome_completo.split()[-1]\n",
    "print(\"A ultima palavra do nome e:\", ultimo_nome)"
   ]
  },
  {
   "cell_type": "code",
   "execution_count": 43,
   "metadata": {},
   "outputs": [
    {
     "name": "stdout",
     "output_type": "stream",
     "text": [
      "Você está na fase Adolescente\n"
     ]
    }
   ],
   "source": [
    "# if elif else \n",
    "idade = int(input(\"Qual sua idade: \"))\n",
    "# idade = 60 # Altere esse valor para testar diferentes faixas etárias\n",
    "\n",
    "# Escreva sua estrutura condicional abaixo\n",
    "\n",
    "if idade <= 12:\n",
    " print(\"Você está na fase infantil\")\n",
    "\n",
    "elif idade == 13 and idade <= 17:\n",
    " print(\"Você está na fase Adolescente\")\n",
    "\n",
    "elif idade == 18 and idade <= 59:\n",
    " print(\"Voce está na fase Adulta\")\n",
    "\n",
    "else:\n",
    " print(\"Voce já está na fase idosa\") "
   ]
  },
  {
   "cell_type": "code",
   "execution_count": 48,
   "metadata": {},
   "outputs": [
    {
     "name": "stdout",
     "output_type": "stream",
     "text": [
      "10\n",
      "9\n",
      "8\n",
      "7\n",
      "6\n",
      "5\n",
      "4\n",
      "3\n",
      "2\n",
      "1\n"
     ]
    }
   ],
   "source": [
    "# while (enquanto)\n",
    "contador = 10 \n",
    "\n",
    "while contador > 0:\n",
    "    print (contador)\n",
    "    contador -=1"
   ]
  },
  {
   "cell_type": "code",
   "execution_count": 23,
   "metadata": {},
   "outputs": [
    {
     "name": "stdout",
     "output_type": "stream",
     "text": [
      "subindo 1\n",
      "subindo 2\n",
      "Você chegou ao 3 andar\n"
     ]
    }
   ],
   "source": [
    "andar = 1\n",
    " \n",
    "escolha_andar = int(input(\"Escolha o andar: \"))\n",
    "\n",
    "while andar < escolha_andar:\n",
    "\n",
    "    print(\"subindo\",andar)\n",
    "\n",
    "    andar += 1\n",
    "\n",
    "if andar == andar:\n",
    "    print((f\"Você chegou ao {andar} andar\"))\n"
   ]
  },
  {
   "cell_type": "code",
   "execution_count": 24,
   "metadata": {},
   "outputs": [
    {
     "name": "stdout",
     "output_type": "stream",
     "text": [
      "Senha incorreta, tente novamente\n",
      "Senha incorreta, tente novamente\n",
      "Senha incorreta, tente novamente\n",
      "login efetuado\n"
     ]
    }
   ],
   "source": [
    "# Crie um algoritmo que solite ao usuário uma senha, e só sai do looping do while quando for digitado a senha corretamente\n",
    "senhaSistema = \"123\"\n",
    "senhaDigitada = input(\"Digite uma senha:\")\n",
    "while senhaSistema != senhaDigitada:\n",
    "    print(\"Senha incorreta, tente novamente\")\n",
    "\n",
    "    senhaDigitada = input(\"Digite uma senha\")\n",
    "\n",
    "print(\"login efetuado\")"
   ]
  },
  {
   "cell_type": "code",
   "execution_count": 29,
   "metadata": {},
   "outputs": [],
   "source": [
    "#  looping infinito, que continua ate que o usuraio digita sair\n",
    "#  Enquanto for verdade \n",
    "while True:\n",
    "\n",
    "    usuario = input(\"Digite 'sair' para encerrar: \")\n",
    "\n",
    "    if usuario == 'sair':\n",
    "\n",
    "        break"
   ]
  },
  {
   "cell_type": "code",
   "execution_count": 31,
   "metadata": {},
   "outputs": [
    {
     "name": "stdout",
     "output_type": "stream",
     "text": [
      "59\n",
      "O número secreto é maior. Tente novamente!\n",
      "O número secreto é maior. Tente novamente!\n",
      "O número secreto é maior. Tente novamente!\n",
      "O número secreto é maior. Tente novamente!\n",
      "O número secreto é maior. Tente novamente!\n",
      "O número secreto é menor. Tente novamente!\n",
      "Parabéns! Você acertou o número secreto e 59 em 7 tentativas\n"
     ]
    }
   ],
   "source": [
    "import random\n",
    "\n",
    "numero_secreto = random.randint(1, 100)\n",
    "tentativas = 0\n",
    "\n",
    "print(numero_secreto)\n",
    "\n",
    "# enquanto for verdade\n",
    "while True:\n",
    "\n",
    "    palpite = int(input(\"Digite o seu palpite: \"))\n",
    "    tentativas += 1\n",
    "\n",
    "    if palpite < numero_secreto:\n",
    "\n",
    "        print (\"O número secreto é maior. Tente novamente!\")\n",
    "\n",
    "    elif palpite > numero_secreto:\n",
    "\n",
    "        print(\"O número secreto é menor. Tente novamente!\")\n",
    "\n",
    "    else:\n",
    "\n",
    "        print(f\"Parabéns! Você acertou o número secreto e {numero_secreto} em {tentativas} tentativas\")\n",
    "\n",
    "        break"
   ]
  }
 ],
 "metadata": {
  "kernelspec": {
   "display_name": "Python 3",
   "language": "python",
   "name": "python3"
  },
  "language_info": {
   "codemirror_mode": {
    "name": "ipython",
    "version": 3
   },
   "file_extension": ".py",
   "mimetype": "text/x-python",
   "name": "python",
   "nbconvert_exporter": "python",
   "pygments_lexer": "ipython3",
   "version": "3.12.4"
  }
 },
 "nbformat": 4,
 "nbformat_minor": 2
}
